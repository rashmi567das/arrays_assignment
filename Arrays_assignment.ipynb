{
 "cells": [
  {
   "cell_type": "code",
   "execution_count": 3,
   "id": "c8d91db6-0c26-433f-a900-74453e6873b1",
   "metadata": {},
   "outputs": [
    {
     "name": "stdout",
     "output_type": "stream",
     "text": [
      "The array contains duplicate\n"
     ]
    }
   ],
   "source": [
    "#function definition\n",
    "#time complexity: O(n)\n",
    "#space complexity: O(1)\n",
    "def contain_duplicate(arr):\n",
    "    unique_set = set(arr)\n",
    "    for i in arr:\n",
    "        if i in unique_set:\n",
    "            return True\n",
    "        else:\n",
    "            unique_set.append(i)\n",
    "    return False\n",
    "\n",
    "#Driver code\n",
    "arr =[1,2,4,2,5,9]\n",
    "if contain_duplicate(arr):\n",
    "    print(\"The array contains duplicate\")\n",
    "else:\n",
    "    print(\"The array does not contain duplicate\")"
   ]
  },
  {
   "cell_type": "code",
   "execution_count": 6,
   "id": "298157e3-c46b-4201-8d55-a129f4cf9abc",
   "metadata": {},
   "outputs": [
    {
     "name": "stdout",
     "output_type": "stream",
     "text": [
      "Rotated Array: [6, 7, 1, 2, 3, 4, 5]\n"
     ]
    }
   ],
   "source": [
    "#function a array to the right by k positions\n",
    "#time complexity:O(n)\n",
    "#space complexity: O(1)\n",
    "def rotate_right(arr, k):\n",
    "    k = k % len(arr) #Normalize k to handle cases where k is larger than the array length\n",
    "    #print(k)\n",
    "    rotated = arr[-k:] + arr[:-k]\n",
    "    return rotated\n",
    "\n",
    "#driver code\n",
    "arr = [1,2,3,4,5,6,7]\n",
    "k = 2\n",
    "#Rotate the array to the right by k positions.\n",
    "rotated_arr = rotate_right(arr, k)\n",
    "#print the rotated array\n",
    "print(\"Rotated Array:\", rotated_arr)"
   ]
  },
  {
   "cell_type": "code",
   "execution_count": 4,
   "id": "51381681-2ad6-46fc-9717-ba7e6b137082",
   "metadata": {},
   "outputs": [
    {
     "name": "stdout",
     "output_type": "stream",
     "text": [
      "[12, 9, 7, 5, 4, 2]\n"
     ]
    }
   ],
   "source": [
    "#function definition\n",
    "#time compexity: O(n)\n",
    "#space complexity: O(1)\n",
    "def reverse(arr):\n",
    "    reverse_var = []\n",
    "    for i in arr[::-1]:\n",
    "            reverse_var.append(i)\n",
    "    return reverse_var\n",
    "\n",
    "##Driver code\n",
    "arr = [2,4,5,7,9,12]\n",
    "#call the function and print\n",
    "result = reverse(arr)\n",
    "print(result)"
   ]
  },
  {
   "cell_type": "code",
   "execution_count": 9,
   "id": "c419a3f4-891f-42ba-bf04-581a0b252add",
   "metadata": {},
   "outputs": [
    {
     "name": "stdout",
     "output_type": "stream",
     "text": [
      "Maximum element: 20\n"
     ]
    }
   ],
   "source": [
    "#arr = [10,5,20,8,15]\n",
    "#time complexity: O(n)\n",
    "#space complexity: O(1)\n",
    "\n",
    "#find the maximum element in the array\n",
    "max_element = max(arr)\n",
    "        \n",
    "\n",
    "#Driver code\n",
    "arr = [10,5,20,8,15]\n",
    "#print the maximum element\n",
    "print(\"Maximum element:\", max_element)"
   ]
  },
  {
   "cell_type": "code",
   "execution_count": 24,
   "id": "87dd96d8-cb59-4f9f-8f9a-1b501628d9ac",
   "metadata": {},
   "outputs": [
    {
     "name": "stdout",
     "output_type": "stream",
     "text": [
      "Array without duplicate: [1, 2, 3, 4, 5]\n"
     ]
    }
   ],
   "source": [
    "#function definition\n",
    "#time complexity: O(n)\n",
    "#space complexity\n",
    "def remove_duplicate(nums):\n",
    "    if not nums:\n",
    "        return 0\n",
    "    unique_idx = 0\n",
    "    \n",
    "    for i in range(1, len(nums)):\n",
    "        if nums[i] != nums[unique_idx]:\n",
    "            unique_idx += 1\n",
    "            nums[unique_idx] = nums[i]\n",
    "            \n",
    "    return unique_idx + 1\n",
    "\n",
    "\n",
    "#Driver code\n",
    "arr = [1,1,2,2,2,3,3,4,4,4,4,5,5]\n",
    "#function calling\n",
    "new_length = remove_duplicate(arr)\n",
    "#print\n",
    "print(\"Array without duplicate:\", arr[:new_length])"
   ]
  },
  {
   "cell_type": "code",
   "execution_count": null,
   "id": "0de5d1f1-1e43-45dd-af4d-cb5b2c578e89",
   "metadata": {},
   "outputs": [],
   "source": []
  }
 ],
 "metadata": {
  "kernelspec": {
   "display_name": "Python 3 (ipykernel)",
   "language": "python",
   "name": "python3"
  },
  "language_info": {
   "codemirror_mode": {
    "name": "ipython",
    "version": 3
   },
   "file_extension": ".py",
   "mimetype": "text/x-python",
   "name": "python",
   "nbconvert_exporter": "python",
   "pygments_lexer": "ipython3",
   "version": "3.10.8"
  }
 },
 "nbformat": 4,
 "nbformat_minor": 5
}
